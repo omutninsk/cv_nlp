{
 "cells": [
  {
   "cell_type": "code",
   "execution_count": null,
   "metadata": {},
   "outputs": [],
   "source": [
    "import matplotlib.pyplot as plt\n",
    "import numpy\n",
    "import torch\n",
    "import torch.nn as nn\n",
    "import torchvision.models as models\n",
    "from torchvision import datasets, transforms\n",
    "from torch.utils.data import DataLoader"
   ]
  },
  {
   "cell_type": "code",
   "execution_count": null,
   "metadata": {},
   "outputs": [],
   "source": [
    "# hyperparams\n",
    "inp_dim = 28 * 28\n",
    "hidden = 256\n",
    "out_dim = 10\n",
    "device_id = 0\n",
    "device = 'cpu' if device_id == -1 else f'cuda:{device_id}' # 'cuda:0' id GPU\n",
    "n_epochs = 10\n",
    "batch_size = 128"
   ]
  },
  {
   "cell_type": "code",
   "execution_count": null,
   "metadata": {},
   "outputs": [],
   "source": [
    "transform = transforms.Compose(\n",
    "    [transforms.ToTensor(),\n",
    "     transforms.Normalize((0.5), (0.5)),\n",
    "     ])\n",
    "\n",
    "# зашружаем тренировочный сет\n",
    "dataset_train = datasets.MNIST('.', \n",
    "                               train=True,            \n",
    "                               download=True, \n",
    "                               transform=transform)\n",
    "\n",
    "dataset_test = datasets.MNIST('.', \n",
    "                              train=False,\n",
    "                              download=True, \n",
    "                              transform=transform)"
   ]
  },
  {
   "cell_type": "code",
   "execution_count": null,
   "metadata": {},
   "outputs": [],
   "source": [
    "plt.imshow(dataset_train.data[1].detach().numpy(), cmap='gray')\n",
    "plt.show()"
   ]
  },
  {
   "cell_type": "code",
   "execution_count": null,
   "metadata": {},
   "outputs": [],
   "source": [
    "figure = plt.figure(figsize=(10, 8))\n",
    "cols, rows = 5, 5\n",
    "for i in range(1, cols * rows + 1):\n",
    " sample_idx = torch.randint(len(dataset_train), size=(1,)).item()\n",
    " img, label = dataset_train[sample_idx]\n",
    " figure.add_subplot(rows, cols, i)\n",
    " plt.title(label)\n",
    " plt.axis(\"off\")\n",
    " plt.imshow(img.squeeze(), cmap=\"gray\")\n",
    "plt.show()"
   ]
  },
  {
   "cell_type": "code",
   "execution_count": null,
   "metadata": {},
   "outputs": [],
   "source": [
    "plt.imshow(dataset_test.data[1].detach().numpy())\n",
    "plt.show()"
   ]
  },
  {
   "cell_type": "code",
   "execution_count": null,
   "metadata": {},
   "outputs": [],
   "source": [
    "class LinearModel(nn.Module):\n",
    "    def __init__(self, input_dim, hidden_dim, output_dim, dropout_p=0.1):\n",
    "        super().__init__()\n",
    "        self.linear1 = nn.Linear(input_dim, hidden_dim)\n",
    "        # custom init nn.init.xavier_uniform(self.linear1.weight) \n",
    "        self.do = nn.Dropout(dropout_p)\n",
    "        self.linear2 = nn.Linear(hidden_dim, output_dim)\n",
    "        self.activ = nn.ReLU()\n",
    "\n",
    "    def forward(self, x):\n",
    "        x = self.linear1(x)\n",
    "        x = self.activ(x)\n",
    "        x = self.do(x)\n",
    "        x = self.linear2(x)\n",
    "\n",
    "        return x"
   ]
  },
  {
   "cell_type": "code",
   "execution_count": null,
   "metadata": {},
   "outputs": [],
   "source": [
    "dataset_train = datasets.MNIST('.', train=True, download=True)\n",
    "\n",
    "def collate_fn(data: list):\n",
    "    # data = [(pic, target)...]\n",
    "    pics = []\n",
    "    targets = []\n",
    "    for item in data:\n",
    "        pics.append(numpy.array(item[0]))\n",
    "        targets.append(item[1])\n",
    "    pics = torch.from_numpy(numpy.array(pics)).float() / 255\n",
    "    pics = pics.view(pics.size(0), -1) # mtx 28x28 to vec 7xx\n",
    "    targets = torch.from_numpy(numpy.array(targets))\n",
    "\n",
    "    return {\n",
    "        'data': pics,\n",
    "        'target': targets,\n",
    "    }"
   ]
  },
  {
   "cell_type": "code",
   "execution_count": null,
   "metadata": {},
   "outputs": [],
   "source": [
    "dataloader_train = DataLoader(dataset_train, \n",
    "                        batch_size, \n",
    "                        shuffle=True, \n",
    "                        collate_fn=collate_fn,\n",
    "                        drop_last = True\n",
    "                        )"
   ]
  },
  {
   "cell_type": "code",
   "execution_count": null,
   "metadata": {},
   "outputs": [],
   "source": [
    "dataset_test = datasets.MNIST('.', train=False, download=True)"
   ]
  },
  {
   "cell_type": "code",
   "execution_count": null,
   "metadata": {},
   "outputs": [],
   "source": [
    "dataloader_test = DataLoader(dataset_test, \n",
    "                        batch_size, \n",
    "                        shuffle=True, \n",
    "                        collate_fn=collate_fn,\n",
    "                        drop_last = True,\n",
    "                        )"
   ]
  },
  {
   "cell_type": "code",
   "execution_count": null,
   "metadata": {},
   "outputs": [],
   "source": [
    "model = LinearModel(inp_dim, hidden, out_dim).to(device)\n",
    "optim = torch.optim.Adam(model.parameters())\n",
    "loss_func = nn.CrossEntropyLoss()"
   ]
  },
  {
   "cell_type": "code",
   "execution_count": null,
   "metadata": {},
   "outputs": [],
   "source": [
    "for epoch in range(n_epochs):\n",
    "    # train model\n",
    "    model.train()\n",
    "    for i, batch in enumerate(dataloader_train):\n",
    "        optim.zero_grad()\n",
    "        batch['target'] = batch['target'].type(torch.LongTensor)\n",
    "        predict = model(batch['data'].to(device))\n",
    "        loss = loss_func(predict, batch['target'].to(device))\n",
    "        loss.backward()\n",
    "        optim.step()\n",
    "        if i % 200 == 0:\n",
    "            print(f'epoch: {epoch}, step: {i}, loss: {loss.item()}')\n",
    "\n",
    "    # test model\n",
    "    model.eval()\n",
    "    for i, batch in enumerate(dataloader_test):\n",
    "              batch['target'] = batch['target'].type(torch.LongTensor)\n",
    "              inputs, labels = batch\n",
    "              loss_test = 0\n",
    "              with torch.no_grad():\n",
    "                  predict = model(batch['data'].to(device))\n",
    "                  loss_test += loss_func(predict, batch['target'].to(device))\n",
    "    print('test loss:', (loss_test / i).item())\n",
    "    \n",
    "    #save every epoch\n",
    "    torch.save(model.state_dict(), f'./chkpt_cv1_{epoch}.pth')"
   ]
  },
  {
   "cell_type": "code",
   "execution_count": null,
   "metadata": {},
   "outputs": [],
   "source": [
    "i=1\n",
    "image = dataset_test.data[i].detach().numpy()\n",
    "data = dataset_test.data[i].unsqueeze(0).view(1, -1).to(device).float()\n",
    "target = dataset_test.targets[i].tolist()\n",
    "model.eval()\n",
    "plt.imshow(image)\n",
    "plt.show()\n",
    "predict = torch.argmax(model(data)).squeeze().detach()\n",
    "print(f\"predict: {predict}\")\n",
    "print(f\"true:    {target}\")"
   ]
  },
  {
   "cell_type": "code",
   "execution_count": null,
   "metadata": {},
   "outputs": [],
   "source": [
    "class LinearModel1(nn.Module):\n",
    "    def __init__(self, input_dim, hidden_dim, output_dim, dropout_p=0.1):\n",
    "        super().__init__()\n",
    "        self.linear1 = nn.Linear(input_dim, hidden_dim)\n",
    "        self.do = nn.Dropout(dropout_p)\n",
    "        self.act = nn.ReLU()\n",
    "        self.linear2 = nn.Linear(hidden_dim, hidden_dim // 2)\n",
    "        self.linear3 = nn.Linear(hidden_dim // 2, output_dim)\n",
    "\n",
    "    def forward(self, X):\n",
    "        X = self.act(self.do(self.linear1(X)))\n",
    "        X = self.act(self.do(self.linear2(X)))\n",
    "        X = self.linear3(X)\n",
    "\n",
    "        return X"
   ]
  },
  {
   "cell_type": "code",
   "execution_count": null,
   "metadata": {},
   "outputs": [],
   "source": [
    "model1 = LinearModel1(inp_dim, hidden, out_dim).to(device)\n",
    "optim = torch.optim.Adam(model1.parameters())\n",
    "loss_func = nn.CrossEntropyLoss()"
   ]
  },
  {
   "cell_type": "code",
   "execution_count": null,
   "metadata": {},
   "outputs": [],
   "source": [
    "for epoch in range(n_epochs):\n",
    "    # train model\n",
    "    model1.train()\n",
    "    for i, batch in enumerate(dataloader_train):\n",
    "        optim.zero_grad()\n",
    "        batch['target'] = batch['target'].type(torch.LongTensor)\n",
    "        predict = model1(batch['data'].to(device))\n",
    "        loss = loss_func(predict, batch['target'].to(device))\n",
    "        loss.backward()\n",
    "        optim.step()\n",
    "        if i % 200 == 0:\n",
    "            print(f'epoch: {epoch}, step: {i}, loss: {loss.item()}')\n",
    "\n",
    "    # test model\n",
    "    model1.eval()\n",
    "    for i, batch in enumerate(dataloader_test):\n",
    "              inputs, labels = batch\n",
    "              batch['target'] = batch['target'].type(torch.LongTensor)\n",
    "              loss_test = 0\n",
    "              with torch.no_grad():\n",
    "                  predict = model1(batch['data'].to(device))\n",
    "                  loss_test += loss_func(predict, batch['target'].to(device))\n",
    "    print('test loss:', loss_test.item() / i)\n",
    "    \n",
    "    #save every epoch\n",
    "    torch.save(model.state_dict(), f'./chkpt_cv1_{epoch}.pth')"
   ]
  },
  {
   "cell_type": "code",
   "execution_count": null,
   "metadata": {},
   "outputs": [],
   "source": [
    "i=1\n",
    "image = dataset_test.data[i].detach().numpy()\n",
    "data = dataset_test.data[i].unsqueeze(0).view(1, -1).to(device).float()\n",
    "target = dataset_test.targets[i].tolist()\n",
    "model1.eval()\n",
    "plt.imshow(image)\n",
    "plt.show()\n",
    "predict = torch.argmax(model1(data)).squeeze().detach()\n",
    "print(f\"predict: {predict}\")\n",
    "print(f\"true:    {target}\")"
   ]
  },
  {
   "cell_type": "code",
   "execution_count": null,
   "metadata": {},
   "outputs": [],
   "source": [
    "# hyperparams\n",
    "input_ch = 1\n",
    "hidden_ch = 128\n",
    "out_dim = 10\n",
    "device_id = 0\n",
    "device = 'cpu' if device_id == -1 else f'cuda:{device_id}'\n",
    "n_epochs = 10\n",
    "batch_size = 128"
   ]
  },
  {
   "cell_type": "code",
   "execution_count": null,
   "metadata": {},
   "outputs": [],
   "source": [
    "class ConvDO(nn.Module):\n",
    "    def __init__(self, input_ch, output_ch, kernel_size, stride, padding, \n",
    "                 dropout_p=0.1):\n",
    "        super().__init__()\n",
    "        self.conv = nn.Conv2d(\n",
    "            input_ch, \n",
    "            output_ch, \n",
    "            kernel_size=kernel_size,\n",
    "            stride=stride,\n",
    "            padding=padding, \n",
    "        )\n",
    "        # TODO добавить батч норм\n",
    "        self.do = nn.Dropout(dropout_p)\n",
    "\n",
    "    def forward(self, x):\n",
    "\n",
    "        return self.do(self.conv(x))\n",
    "\n",
    "class ConvModel(nn.Module):\n",
    "    def __init__(self, input_ch, hidden_ch, output_dim, dropout_p=0.1):\n",
    "        super().__init__()\n",
    "        self.conv1 = ConvDO(input_ch, hidden_ch, 5, 2, 2) # уменьшим размер выходной фичматрицы в 2 раза\n",
    "        # TODO еще уменьшить размер фичматрицы\n",
    "        self.conv2 = ConvDO(hidden_ch, hidden_ch, 3, 1, 1)\n",
    "        # TODO увеличить число выходных каналов\n",
    "        self.conv3 = ConvDO(hidden_ch, 1, 3, 1, 1)\n",
    "        self.linear = nn.Linear(\n",
    "            14 * 14, # TODO поправить при изменении числа каналов и размера фич матриц\n",
    "            output_dim,\n",
    "        )  \n",
    "        self.activ = nn.ReLU()    \n",
    "\n",
    "    def forward(self, x):\n",
    "        x = self.activ(self.conv1(x))\n",
    "        x = self.activ(self.conv2(x))\n",
    "        x = self.activ(self.conv3(x))\n",
    "        x = self.linear(x.view(x.size(0), -1))\n",
    "\n",
    "        return x"
   ]
  },
  {
   "cell_type": "code",
   "execution_count": null,
   "metadata": {},
   "outputs": [],
   "source": [
    "transform = transforms.Compose(\n",
    "    [transforms.ToTensor(),\n",
    "     transforms.Normalize((0.5), (0.5)),\n",
    "     ])\n",
    "\n",
    "# зашружаем тренировочный сет\n",
    "dataset_train = datasets.MNIST('.', \n",
    "                               train=True,            \n",
    "                               download=True, \n",
    "                               transform=transform)\n",
    "\n",
    "dataset_test = datasets.MNIST('.', \n",
    "                              train=False,\n",
    "                              download=True, \n",
    "                              transform=transform)\n",
    "trainloader = torch.utils.data.DataLoader(dataset_train, \n",
    "                                          batch_size=batch_size,\n",
    "                                          shuffle=True, \n",
    "                                          num_workers=2, \n",
    "                                          drop_last = True,)\n",
    "\n",
    "testloader = torch.utils.data.DataLoader(dataset_test, \n",
    "                                          batch_size=batch_size,\n",
    "                                          shuffle=True, \n",
    "                                          num_workers=2, \n",
    "                                          drop_last = True,)"
   ]
  },
  {
   "cell_type": "code",
   "execution_count": null,
   "metadata": {},
   "outputs": [],
   "source": [
    "model_conv = ConvModel(input_ch, hidden_ch, out_dim).to(device)\n",
    "optim = torch.optim.Adam(model_conv.parameters())\n",
    "loss_func = nn.CrossEntropyLoss()"
   ]
  },
  {
   "cell_type": "code",
   "execution_count": null,
   "metadata": {},
   "outputs": [],
   "source": [
    "for epoch in range(n_epochs):\n",
    "    #train model\n",
    "    model_conv.train()\n",
    "    for i, batch in enumerate(trainloader):\n",
    "        inputs, labels = batch\n",
    "        optim.zero_grad()\n",
    "\n",
    "        predict = model_conv(inputs.to(device))\n",
    "        loss = loss_func(predict, labels.to(device))\n",
    "        loss.backward()\n",
    "        optim.step()\n",
    "        if i % 200 == 0:\n",
    "            print(f'epoch: {epoch}, step: {i}, loss: {loss.item()}')\n",
    "    \n",
    "    #test model\n",
    "    model_conv.eval()\n",
    "    for i, batch in enumerate(testloader):\n",
    "        inputs, labels = batch\n",
    "        loss_test = 0\n",
    "        with torch.no_grad():\n",
    "            predict = model_conv(inputs.to(device))\n",
    "            loss_test += loss_func(predict, labels.to(device))\n",
    "    \n",
    "    print('test loss:', loss_test.item() / i)\n",
    "    \n",
    "    #save every epoch\n",
    "    torch.save(model_conv.state_dict(), f'./chkpt_cv1_conv_{epoch}.pth')"
   ]
  },
  {
   "cell_type": "code",
   "execution_count": null,
   "metadata": {},
   "outputs": [],
   "source": [
    "i=1\n",
    "image = dataset_test.data[i].detach().numpy()\n",
    "data = dataset_test.data[i].unsqueeze(0).unsqueeze(0).to(device).float()\n",
    "target = dataset_test.targets[i].tolist()\n",
    "model_conv.eval()\n",
    "plt.imshow(image)\n",
    "plt.show()\n",
    "predict = torch.argmax(model_conv(data)).squeeze().detach()\n",
    "print(f\"predict: {predict}\")\n",
    "print(f\"true:    {target}\")"
   ]
  },
  {
   "cell_type": "code",
   "execution_count": null,
   "metadata": {},
   "outputs": [],
   "source": [
    "class ConvDO1(nn.Module):\n",
    "    def __init__(self, input_ch, output_ch, kernel_size, stride, padding, \n",
    "                 dropout_p=0.1):\n",
    "        super().__init__()\n",
    "        self.conv = nn.Conv2d(\n",
    "            input_ch, \n",
    "            output_ch, \n",
    "            kernel_size=kernel_size,\n",
    "            stride=stride,\n",
    "            padding=padding, \n",
    "        )\n",
    "        self.do = nn.Dropout(dropout_p)\n",
    "\n",
    "    def forward(self, x):\n",
    "                \n",
    "        return self.do(self.conv(x))\n",
    "\n",
    "class ConvModel1(nn.Module):\n",
    "    def __init__(self, input_ch, hidden_ch, output_dim, dropout_p=0.1):\n",
    "        super().__init__()\n",
    "        self.conv1 = ConvDO1(input_ch, hidden_ch, 5, 2, 2) # уменьшим размер выходной фичматрицы в 2 раза 14x14\n",
    "        self.pool = nn.MaxPool2d(kernel_size=2) # TODO еще уменьшить размер фичматрицы 7x7\n",
    "        self.conv2 = ConvDO1(hidden_ch, hidden_ch, 3, 1, 1)\n",
    "        self.conv3 = ConvDO1(hidden_ch, 10, 3, 1, 1) # TODO увеличить число выходных каналов\n",
    "        self.linear1 = nn.Linear(\n",
    "            10 * 7 * 7, # TODO поправить при изменении числа каналов и размера фич матриц\n",
    "            200\n",
    "        )  \n",
    "        self.linear2 = nn.Linear(200, output_dim)\n",
    "        self.activ = nn.ReLU()    \n",
    "        self.bn = nn.BatchNorm2d(hidden_ch) # TODO добавить батч норм\n",
    "\n",
    "    def forward(self, x):\n",
    "        x = self.activ(self.conv1(x))\n",
    "        x = self.pool(x)\n",
    "        x = self.activ(self.conv2(x))\n",
    "        x = self.bn(x)\n",
    "        x = self.activ(self.conv3(x))\n",
    "        x = self.linear1(x.view(x.size(0), -1))\n",
    "        x = self.activ(x)\n",
    "        x = self.linear2(x)\n",
    "        \n",
    "        return x"
   ]
  },
  {
   "cell_type": "code",
   "execution_count": null,
   "metadata": {},
   "outputs": [],
   "source": [
    "model_conv1 = ConvModel1(input_ch, hidden_ch, out_dim).to(device)\n",
    "optim = torch.optim.Adam(model_conv1.parameters())\n",
    "loss_func = nn.CrossEntropyLoss()"
   ]
  },
  {
   "cell_type": "code",
   "execution_count": null,
   "metadata": {},
   "outputs": [],
   "source": [
    "for epoch in range(n_epochs):\n",
    "    #train model\n",
    "    model_conv1.train()\n",
    "    for i, batch in enumerate(trainloader):\n",
    "        inputs, labels = batch\n",
    "        optim.zero_grad()\n",
    "\n",
    "        predict = model_conv1(inputs.to(device))\n",
    "        loss = loss_func(predict, labels.to(device))\n",
    "        loss.backward()\n",
    "        optim.step()\n",
    "        if i % 200 == 0:\n",
    "            print(f'epoch: {epoch}, step: {i}, loss: {loss.item()}')\n",
    "    \n",
    "    #test model\n",
    "    model_conv1.eval()\n",
    "    for i, batch in enumerate(testloader):\n",
    "        inputs, labels = batch\n",
    "        loss_test = 0\n",
    "        with torch.no_grad():\n",
    "            predict = model_conv1(inputs.to(device))\n",
    "            loss_test += loss_func(predict, labels.to(device))\n",
    "    \n",
    "    print('test loss:', loss_test / i)\n",
    "    \n",
    "    #save every epoch\n",
    "    torch.save(model_conv1.state_dict(), f'./chkpt_cv1_conv_{epoch}.pth')"
   ]
  },
  {
   "cell_type": "code",
   "execution_count": null,
   "metadata": {},
   "outputs": [],
   "source": [
    "i=1\n",
    "image = dataset_test.data[i].detach().numpy()\n",
    "data = dataset_test.data[i].unsqueeze(0).unsqueeze(0).to(device).float()\n",
    "target = dataset_test.targets[i]\n",
    "model_conv1.eval()\n",
    "plt.imshow(image)\n",
    "plt.show()\n",
    "predict = torch.argmax(model_conv1(data)).squeeze().detach()\n",
    "print(f\"predict: {predict}\")\n",
    "print(f\"true:    {target}\")"
   ]
  },
  {
   "cell_type": "code",
   "execution_count": null,
   "metadata": {},
   "outputs": [],
   "source": [
    "figure = plt.figure(figsize=(10, 8))\n",
    "cols, rows = 5, 5\n",
    "for i in range(1, cols * rows + 1):\n",
    " sample_idx = torch.randint(len(dataset_test), size=(1,)).item()\n",
    " img, label = dataset_test[sample_idx]\n",
    " data = dataset_test.data[sample_idx].unsqueeze(0).unsqueeze(0).to(device).float()\n",
    " predict = torch.argmax(model_conv1(data)).squeeze().detach().item()\n",
    " figure.add_subplot(rows, cols, i)\n",
    " plt.title(predict)\n",
    " plt.axis(\"off\")\n",
    " plt.imshow(img.squeeze(), cmap=\"gray\")\n",
    "plt.show()"
   ]
  }
 ],
 "metadata": {
  "kernelspec": {
   "display_name": "base",
   "language": "python",
   "name": "python3"
  },
  "language_info": {
   "codemirror_mode": {
    "name": "ipython",
    "version": 3
   },
   "file_extension": ".py",
   "mimetype": "text/x-python",
   "name": "python",
   "nbconvert_exporter": "python",
   "pygments_lexer": "ipython3",
   "version": "3.10.7"
  },
  "orig_nbformat": 4,
  "vscode": {
   "interpreter": {
    "hash": "f08154012ddadd8e950e6e9e035c7a7b32c136e7647e9b7c77e02eb723a8bedb"
   }
  }
 },
 "nbformat": 4,
 "nbformat_minor": 2
}
